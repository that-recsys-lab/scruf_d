{
 "cells": [
  {
   "cell_type": "markdown",
   "id": "3dc1dc31-7dc6-4808-8a55-756b616cd3a6",
   "metadata": {},
   "source": [
    "# Notebook for running SCRUF"
   ]
  },
  {
   "cell_type": "markdown",
   "id": "e3f72d7d-6646-4f9f-b337-96305e84dd6a",
   "metadata": {},
   "source": [
    "## Imports"
   ]
  },
  {
   "cell_type": "code",
   "execution_count": 1,
   "id": "abf653d3-091f-4b94-82cf-e95dd25555d1",
   "metadata": {
    "tags": []
   },
   "outputs": [],
   "source": [
    "import pandas as pd\n",
    "import numpy as np\n",
    "import toml"
   ]
  },
  {
   "cell_type": "markdown",
   "id": "875d063d-d3b4-44f2-8995-b5b58a7e1810",
   "metadata": {},
   "source": [
    "Some non-standard packages"
   ]
  },
  {
   "cell_type": "code",
   "execution_count": 2,
   "id": "c612e99e-e5e4-49ed-a80d-f5d7b1ecf141",
   "metadata": {},
   "outputs": [
    {
     "name": "stdout",
     "output_type": "stream",
     "text": [
      "zsh:1: parse error near `-m'\n"
     ]
    }
   ],
   "source": [
    "!{sys.executable} -m pip install jsons icecream whalrus toml"
   ]
  },
  {
   "cell_type": "markdown",
   "id": "fc90041b-2f02-43f2-bbe1-f4049c09b429",
   "metadata": {},
   "source": [
    "Import SCRUF"
   ]
  },
  {
   "cell_type": "code",
   "execution_count": 3,
   "id": "0172b892-f9bd-41b8-a3bf-3746994ba58b",
   "metadata": {},
   "outputs": [],
   "source": [
    "import importlib.util\n",
    "import sys\n",
    "spec = importlib.util.spec_from_file_location(\"scruf\", \"../scruf/__init__.py\")\n",
    "spec\n",
    "scruf = importlib.util.module_from_spec(spec)\n",
    "sys.modules[\"scruf\"] = scruf\n",
    "spec.loader.exec_module(scruf)\n"
   ]
  },
  {
   "cell_type": "markdown",
   "id": "a5eae34a-2bb7-4538-b84a-492b17e45f2c",
   "metadata": {},
   "source": [
    "## The configuration file"
   ]
  },
  {
   "cell_type": "code",
   "execution_count": 13,
   "id": "2f68beb1-bca6-4597-801d-f84512eb6898",
   "metadata": {},
   "outputs": [],
   "source": [
    "SAMPLE_CONFIG = '''\n",
    "[location]\n",
    "path = \".\"\n",
    "overwrite = \"true\"\n",
    "\n",
    "[data]\n",
    "rec_filename = \"recs.csv\"\n",
    "feature_filename = \"item.csv\"\n",
    "\n",
    "[output]\n",
    "filename = \"sample_output3.json\"\n",
    "\n",
    "[parameters]\n",
    "list_size = 10\n",
    "iterations = 100\n",
    "initialize = \"skip\"\n",
    "history_window_size = 100\n",
    "\n",
    "[context]\n",
    "context_class = \"csv_context\"\n",
    "\n",
    "[context.properties]\n",
    "compatibility_file = \"compat.csv\"\n",
    "\n",
    "[feature]\n",
    "\n",
    "[feature.one]\n",
    "name = \"1\"\n",
    "protected_feature = \"1\"\n",
    "protected_values = [1]\n",
    "\n",
    "[feature.two]\n",
    "name = \"2\"\n",
    "protected_feature = \"2\"\n",
    "protected_values = [1]\n",
    "\n",
    "[agent]\n",
    "\n",
    "[agent.one]\n",
    "name = \"1\"\n",
    "metric_class = \"proportional_item\"\n",
    "compatibility_class = \"context_compatibility\"\n",
    "preference_function_class = \"binary_preference\"\n",
    "\n",
    "[agent.one.metric]\n",
    "feature = \"1\"\n",
    "proportion = 0.2\n",
    "\n",
    "[agent.one.preference]\n",
    "delta = 0.5\n",
    "feature = \"1\"\n",
    "\n",
    "[agent.two]\n",
    "name = \"2\"\n",
    "metric_class = \"proportional_item\"\n",
    "compatibility_class = \"context_compatibility\"\n",
    "preference_function_class = \"binary_preference\"\n",
    "\n",
    "[agent.two.metric]\n",
    "feature = \"2\"\n",
    "proportion = 0.05\n",
    "\n",
    "[agent.two.preference]\n",
    "delta = 0.5\n",
    "feature = \"2\"\n",
    "\n",
    "[allocation]\n",
    "allocation_class = \"least_fair\"\n",
    "\n",
    "[choice]\n",
    "choice_class = \"whalrus_scoring\"\n",
    "\n",
    "[choice.properties]\n",
    "whalrus_rule = \"RuleBorda\"\n",
    "tie_breaker = \"None\"\n",
    "ignore_weights = false\n",
    "recommender_weight = 0.8\n",
    "'''"
   ]
  },
  {
   "cell_type": "code",
   "execution_count": 14,
   "id": "ff065cb1-0a1a-4fce-8059-01f361220ce5",
   "metadata": {},
   "outputs": [],
   "source": [
    "config = toml.loads(SAMPLE_CONFIG)\n",
    "scruf_obj = scruf.Scruf(config)"
   ]
  },
  {
   "cell_type": "code",
   "execution_count": 15,
   "id": "211527b9-72af-4086-8da0-b485361abebf",
   "metadata": {},
   "outputs": [],
   "source": [
    "scruf_obj.run_experiment()"
   ]
  },
  {
   "cell_type": "markdown",
   "id": "606b33e4-4d84-4b83-ade3-2762b5762f7f",
   "metadata": {},
   "source": [
    "## Change configuration"
   ]
  },
  {
   "cell_type": "code",
   "execution_count": 16,
   "id": "f3588b5f-d663-4ace-836f-e11cce12f72a",
   "metadata": {},
   "outputs": [],
   "source": [
    "config['output']['filename'] = 'sample_output4.json'\n",
    "config['choice']['properties']['recommender_weight'] = 1.0"
   ]
  },
  {
   "cell_type": "code",
   "execution_count": 17,
   "id": "25357cf1-9087-488b-8667-0307ca045c86",
   "metadata": {},
   "outputs": [],
   "source": [
    "scruf_obj2 = scruf.Scruf(config)"
   ]
  },
  {
   "cell_type": "code",
   "execution_count": 18,
   "id": "bb2b9570-1979-4030-be52-9bd985abf199",
   "metadata": {},
   "outputs": [],
   "source": [
    "scruf_obj2.run_experiment()"
   ]
  },
  {
   "cell_type": "code",
   "execution_count": null,
   "id": "aa9bd8a5-9f82-4e73-8efb-d9d66fc6abd8",
   "metadata": {},
   "outputs": [],
   "source": []
  }
 ],
 "metadata": {
  "kernelspec": {
   "display_name": "Python 3 (ipykernel)",
   "language": "python",
   "name": "python3"
  },
  "language_info": {
   "codemirror_mode": {
    "name": "ipython",
    "version": 3
   },
   "file_extension": ".py",
   "mimetype": "text/x-python",
   "name": "python",
   "nbconvert_exporter": "python",
   "pygments_lexer": "ipython3",
   "version": "3.9.13"
  }
 },
 "nbformat": 4,
 "nbformat_minor": 5
}
